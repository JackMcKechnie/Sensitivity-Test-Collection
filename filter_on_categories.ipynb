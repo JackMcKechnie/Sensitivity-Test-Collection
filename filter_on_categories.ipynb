{
 "cells": [
  {
   "cell_type": "code",
   "execution_count": null,
   "metadata": {},
   "outputs": [],
   "source": [
    "import glob\n",
    "import os"
   ]
  },
  {
   "cell_type": "code",
   "execution_count": null,
   "metadata": {},
   "outputs": [],
   "source": [
    "def filenames_from_cat_v2(top,second):\n",
    "    cats_globs = glob.glob('./*/*/*.cats')\n",
    "    matches = []\n",
    "    for g in cats_globs:\n",
    "        with open(g) as file:\n",
    "            for line in file:\n",
    "                line = line.split()[0]\n",
    "                line = line.split(\",\")\n",
    "                if int(line[0]) == top and int(line[1]) == second:\n",
    "                    dir = os.path.basename(g)\n",
    "                    filename = os.path.splitext(dir)[0]\n",
    "                    matches.append(filename)\n",
    "    \n",
    "    return matches"
   ]
  },
  {
   "cell_type": "code",
   "execution_count": null,
   "metadata": {},
   "outputs": [],
   "source": [
    "def print_email_from_filename(filename):\n",
    "    full_filename = glob.glob('./*/*/' + str(filename) + '.txt')\n",
    "    with open(full_filename[0]) as file:\n",
    "        for line in file:\n",
    "            print(line)"
   ]
  },
  {
   "cell_type": "code",
   "execution_count": null,
   "metadata": {},
   "outputs": [],
   "source": [
    "def save_email_from_filename(filename):\n",
    "    full_filename = glob.glob('./*/*/' + str(filename) + '.txt')\n",
    "    email_contents = \"\"\n",
    "    with open(full_filename[0]) as file:\n",
    "        for line in file:\n",
    "            email_contents = email_contents + line\n",
    "    return email_contents"
   ]
  },
  {
   "cell_type": "code",
   "execution_count": null,
   "metadata": {},
   "outputs": [],
   "source": [
    "def save_all_from_cat(primary, secondary):\n",
    "    filenames = filenames_from_cat_v2(primary, secondary)\n",
    "    contents = \"\"\n",
    "    for file in filenames:\n",
    "        contents = contents + save_email_from_filename(file)\n",
    "        contents = contents + \"\\n\" + (\"*\" * 100) + \"\\n\\n\"\n",
    "    print(contents)\n",
    "    return contents"
   ]
  },
  {
   "cell_type": "code",
   "execution_count": null,
   "metadata": {},
   "outputs": [],
   "source": [
    "'''\n",
    "1 Coarse genre\n",
    "    1.1 Company Business, Strategy, etc. (elaborate in Section 3 [Topics])\n",
    "        3.1 regulations and regulators (includes price caps)\n",
    "        3.2 internal projects -- progress and strategy\n",
    "        3.3 company image -- current\n",
    "        3.4 company image -- changing / influencing\n",
    "        3.5 political influence / contributions / contacts\n",
    "        3.6 california energy crisis / california politics\n",
    "        3.7 internal company policy\n",
    "        3.8 internal company operations\n",
    "        3.9 alliances / partnerships\n",
    "        3.10 legal advice\n",
    "        3.11 talking points\n",
    "        3.12 meeting minutes\n",
    "        3.13 trip reports`\n",
    "    1.2 Purely Personal\n",
    "    1.3 Personal but in professional context (e.g., it was good working with you)\n",
    "    1.4 Logistic Arrangements (meeting scheduling, technical support, etc)\n",
    "    1.5 Employment arrangements (job seeking, hiring, recommendations, etc)\n",
    "    1.6 Document editing/checking (collaboration)\n",
    "    1.7 Empty message (due to missing attachment)\n",
    "    1.8 Empty message\n",
    "\n",
    "2 Included/forwarded information`\n",
    "\n",
    "    2.1 Includes new text in addition to forwarded material\n",
    "    2.2 Forwarded email(s) including replies\n",
    "    2.3 Business letter(s) / document(s)\n",
    "    2.4 News article(s)\n",
    "    2.5 Government / academic report(s)\n",
    "    2.6 Government action(s) (such as results of a hearing, etc)\n",
    "    2.7 Press release(s)\n",
    "    2.8 Legal documents (complaints, lawsuits, advice)\n",
    "    2.9 Pointers to url(s)\n",
    "    2.10 Newsletters\n",
    "    2.11 Jokes, humor (related to business)\n",
    "    2.12 Jokes, humor (unrelated to business)\n",
    "    2.13 Attachment(s) (assumed missing)\n",
    "\n",
    "4 Emotional tone (if not neutral)\n",
    "\n",
    "    4.1 jubilation\n",
    "    4.2 hope / anticipation\n",
    "    4.3 humor\n",
    "    4.4 camaraderie\n",
    "    4.5 admiration\n",
    "    4.6 gratitude\n",
    "    4.7 friendship / affection\n",
    "    4.8 sympathy / support\n",
    "    4.9 sarcasm\n",
    "    4.10 secrecy / confidentiality\n",
    "    4.11 worry / anxiety\n",
    "    4.12 concern\n",
    "    4.13 competitiveness / aggressiveness\n",
    "    4.14 triumph / gloating\n",
    "    4.15 pride\n",
    "    4.16 anger / agitation\n",
    "    4.17 sadness / despair\n",
    "    4.18 shame\n",
    "    4.19 dislike / scorn\n",
    "\n",
    "\n",
    "USE THE ABOVE TOPICS TO FILTER EMAILS BY CATEGORY. FOR EXAMPLE: save_all_from_cat(1, 2) PRINTS ALL PURELY PERSONAL\n",
    "EMAILS, SEPARATED BY A LINE OF ASTERISKS.\n",
    "'''\n",
    "\n",
    "save_all_from_cat(1, 2)"
   ]
  }
 ],
 "metadata": {
  "kernelspec": {
   "display_name": "Python 3.9.13 64-bit (windows store)",
   "language": "python",
   "name": "python3"
  },
  "language_info": {
   "codemirror_mode": {
    "name": "ipython",
    "version": 3
   },
   "file_extension": ".py",
   "mimetype": "text/x-python",
   "name": "python",
   "nbconvert_exporter": "python",
   "pygments_lexer": "ipython3",
   "version": "3.9.13"
  },
  "orig_nbformat": 4,
  "vscode": {
   "interpreter": {
    "hash": "749c05e0b1efdd6df607de8faead35d44620c714e03ee25096a770a51f3df291"
   }
  }
 },
 "nbformat": 4,
 "nbformat_minor": 2
}
