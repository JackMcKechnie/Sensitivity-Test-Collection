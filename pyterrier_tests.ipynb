{
 "cells": [
  {
   "cell_type": "code",
   "execution_count": null,
   "metadata": {},
   "outputs": [],
   "source": [
    "import glob\n",
    "import pandas as pd\n",
    "import re\n",
    "import os\n",
    "os.environ[\"JAVA_HOME\"] = \"C:\\\\Program Files\\\\Java\\\\jdk-18.0.1.1\"\n",
    "import pyterrier as pt\n",
    "pt.init()"
   ]
  },
  {
   "cell_type": "code",
   "execution_count": null,
   "metadata": {},
   "outputs": [],
   "source": [
    "# Utility functions\n",
    "\n",
    "def filenames_from_cat(top,second):\n",
    "    cats_globs = glob.glob('./*/*/*.cats')\n",
    "    matches = []\n",
    "    for g in cats_globs:\n",
    "        with open(g) as file:\n",
    "            for line in file:\n",
    "                line = line.split()[0]\n",
    "                line = line.split(\",\")\n",
    "                if int(line[0]) == top and int(line[1]) == second:\n",
    "                    dir = os.path.basename(g)\n",
    "                    filename = os.path.splitext(dir)[0]\n",
    "                    matches.append(filename)\n",
    "    \n",
    "    return matches\n",
    "\n",
    "def print_email_from_filename(filename):\n",
    "    full_filename = glob.glob('./*/*/' + str(filename) + '.txt')\n",
    "    with open(full_filename[0]) as file:\n",
    "        for line in file:\n",
    "            print(line)\n",
    "\n",
    "def save_email_from_filename(filename):\n",
    "    full_filename = glob.glob('./*/*/' + str(filename) + '.txt')\n",
    "    email_contents = \"\"\n",
    "    with open(full_filename[0]) as file:\n",
    "        for line in file:\n",
    "            email_contents = email_contents + line\n",
    "    return email_contents\n",
    "\n",
    "def save_all_from_cat(primary, secondary):\n",
    "    filenames = filenames_from_cat(primary, secondary)\n",
    "    contents = \"\"\n",
    "    for file in filenames:\n",
    "        contents = contents + save_email_from_filename(file)\n",
    "        contents = contents + \"\\n\" + (\"*\" * 100) + \"\\n\\n\"\n",
    "    return contents\n",
    "\n",
    "def list_all_filenames():\n",
    "    globs = glob.glob('./*/*/*.cats')\n",
    "    filenames = []\n",
    "    for file in globs:\n",
    "        filenames.append(os.path.splitext(os.path.basename(file))[0])\n",
    "    return filenames\n",
    "\n",
    "def length_of_email_from_filename(filename):\n",
    "    email_text = save_email_from_filename(filename)\n",
    "    tokenised = word_tokenize(email_text)\n",
    "    return len(tokenised)\n",
    "\n",
    "def number_of_recipients(filename):\n",
    "    addresses = []\n",
    "    contents = save_email_from_filename(filename)\n",
    "    contents = contents.split(\"\\n\")\n",
    "    for line in contents:\n",
    "        if line.startswith(\"To:\"):\n",
    "            addresses.append(re.findall(r\"[a-z0-9\\.\\-+_]+@[a-z0-9\\.\\-+_]+\\.[a-z]+\", line))\n",
    "    \n",
    "    return len([j for sub in addresses for j in sub])\n",
    "\n",
    "def get_sender_from_filename(filename):\n",
    "    addresses = []\n",
    "    contents = save_email_from_filename(filename)\n",
    "    contents = contents.split(\"\\n\")\n",
    "    for line in contents:\n",
    "        if line.startswith(\"From:\"):\n",
    "            addresses.append(re.findall(r\"[a-z0-9\\.\\-+_]+@[a-z0-9\\.\\-+_]+\\.[a-z]+\", line))\n",
    "    \n",
    "    return [j for sub in addresses for j in sub][0]\n",
    "\n",
    "def search_by_id(id):\n",
    "    all_emails = list_all_filenames()\n",
    "    for email in all_emails:\n",
    "        text = save_email_from_filename(email)\n",
    "        if id in text:\n",
    "            print(text)"
   ]
  },
  {
   "cell_type": "code",
   "execution_count": null,
   "metadata": {},
   "outputs": [],
   "source": [
    "# Generate dataframe for collection to be indexed\n",
    "\n",
    "data = []\n",
    "\n",
    "# Partition emails into sensitive and non-sensitive\n",
    "sensitive_filenames = []\n",
    "# Assume 'Purely personal' and 'Personal but in a professional context' are the sensitive categories\n",
    "sensitive_filenames.append(filenames_from_cat(1,2))\n",
    "sensitive_filenames.append(filenames_from_cat(1,3))\n",
    "\n",
    "# Flatten the list\n",
    "sensitive_filenames = [j for sub in sensitive_filenames for j in sub]\n",
    "# Remove duplicates - 3 emails are counted in both categories\n",
    "sensitive_filenames = list(dict.fromkeys(sensitive_filenames))\n",
    "\n",
    "non_sensitive_filenames = []\n",
    "for name in list_all_filenames():\n",
    "    if name not in sensitive_filenames:\n",
    "        non_sensitive_filenames.append(name)\n",
    "\n",
    "for filename in sensitive_filenames:\n",
    "    email = save_email_from_filename(filename)\n",
    "    data.append([filename,email,1])\n",
    "\n",
    "for filename in non_sensitive_filenames:\n",
    "    email = save_email_from_filename(filename)\n",
    "    data.append([filename,email,0])\n",
    "\n",
    "df = pd.DataFrame(data,columns=[\"Filename\",\"Email Contents\",\"Sensitivity\"])\n",
    "df = df.sample(frac=1).reset_index(drop=True)"
   ]
  },
  {
   "cell_type": "code",
   "execution_count": 1,
   "metadata": {},
   "outputs": [
    {
     "ename": "ImportError",
     "evalue": "DLL load failed: The specified module could not be found.",
     "output_type": "error",
     "traceback": [
      "\u001b[1;31m---------------------------------------------------------------------------\u001b[0m",
      "\u001b[1;31mImportError\u001b[0m                               Traceback (most recent call last)",
      "\u001b[1;32m~\\AppData\\Local\\Temp\\ipykernel_19252\\1832631828.py\u001b[0m in \u001b[0;36m<module>\u001b[1;34m\u001b[0m\n\u001b[1;32m----> 1\u001b[1;33m \u001b[1;32mimport\u001b[0m \u001b[0mjnius\u001b[0m\u001b[1;33m\u001b[0m\u001b[1;33m\u001b[0m\u001b[0m\n\u001b[0m",
      "\u001b[1;32m~\\AppData\\Local\\Packages\\PythonSoftwareFoundation.Python.3.7_qbz5n2kfra8p0\\LocalCache\\local-packages\\Python37\\site-packages\\jnius\\__init__.py\u001b[0m in \u001b[0;36m<module>\u001b[1;34m\u001b[0m\n\u001b[0;32m     39\u001b[0m             \u001b[1;32mraise\u001b[0m \u001b[0mException\u001b[0m\u001b[1;33m(\u001b[0m\u001b[1;34m\"Unable to create jni env, no jvm dll found.\"\u001b[0m\u001b[1;33m)\u001b[0m\u001b[1;33m\u001b[0m\u001b[1;33m\u001b[0m\u001b[0m\n\u001b[0;32m     40\u001b[0m \u001b[1;32melse\u001b[0m\u001b[1;33m:\u001b[0m\u001b[1;33m\u001b[0m\u001b[1;33m\u001b[0m\u001b[0m\n\u001b[1;32m---> 41\u001b[1;33m     \u001b[1;32mfrom\u001b[0m \u001b[1;33m.\u001b[0m\u001b[0mjnius\u001b[0m \u001b[1;32mimport\u001b[0m \u001b[1;33m*\u001b[0m  \u001b[1;31m# noqa\u001b[0m\u001b[1;33m\u001b[0m\u001b[1;33m\u001b[0m\u001b[0m\n\u001b[0m\u001b[0;32m     42\u001b[0m     \u001b[1;32mfrom\u001b[0m \u001b[1;33m.\u001b[0m\u001b[0mreflect\u001b[0m \u001b[1;32mimport\u001b[0m \u001b[1;33m*\u001b[0m  \u001b[1;31m# noqa\u001b[0m\u001b[1;33m\u001b[0m\u001b[1;33m\u001b[0m\u001b[0m\n\u001b[0;32m     43\u001b[0m \u001b[1;33m\u001b[0m\u001b[0m\n",
      "\u001b[1;31mImportError\u001b[0m: DLL load failed: The specified module could not be found."
     ]
    }
   ],
   "source": [
    "import jnius"
   ]
  }
 ],
 "metadata": {
  "kernelspec": {
   "display_name": "Python 3.7.9 64-bit (windows store)",
   "language": "python",
   "name": "python3"
  },
  "language_info": {
   "codemirror_mode": {
    "name": "ipython",
    "version": 3
   },
   "file_extension": ".py",
   "mimetype": "text/x-python",
   "name": "python",
   "nbconvert_exporter": "python",
   "pygments_lexer": "ipython3",
   "version": "3.7.9"
  },
  "orig_nbformat": 4,
  "vscode": {
   "interpreter": {
    "hash": "acface571067b17c1ed3b842ad2e17b15b3731495b02611b4addfbd1263a8d73"
   }
  }
 },
 "nbformat": 4,
 "nbformat_minor": 2
}
